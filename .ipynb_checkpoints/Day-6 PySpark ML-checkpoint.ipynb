{
 "cells": [
  {
   "cell_type": "code",
   "execution_count": 1,
   "id": "08207b66",
   "metadata": {},
   "outputs": [],
   "source": [
    "from pyspark.sql import SparkSession"
   ]
  },
  {
   "cell_type": "code",
   "execution_count": 2,
   "id": "3903ac5f",
   "metadata": {},
   "outputs": [],
   "source": [
    "spark=SparkSession.builder.appName('PySparkML').getOrCreate()"
   ]
  },
  {
   "cell_type": "code",
   "execution_count": 3,
   "id": "b6f6c385",
   "metadata": {},
   "outputs": [],
   "source": [
    "## Read dataset\n",
    "\n",
    "training=spark.read.csv('employee-salary.csv',header=True,inferSchema=True)"
   ]
  },
  {
   "cell_type": "code",
   "execution_count": 4,
   "id": "ed39d536",
   "metadata": {},
   "outputs": [
    {
     "name": "stdout",
     "output_type": "stream",
     "text": [
      "+---------+---+------+----------+\n",
      "|     Name|Age|Salary|Experience|\n",
      "+---------+---+------+----------+\n",
      "|     John| 25| 50000|         5|\n",
      "|     Emma| 27| 60000|         3|\n",
      "|  Michael| 30| 45000|         7|\n",
      "|   Sophia| 28| 55000|         6|\n",
      "|   Oliver| 35| 70000|        10|\n",
      "|      Ava| 25| 45000|         2|\n",
      "|  William| 40| 65000|        12|\n",
      "|Charlotte| 22| 40000|         1|\n",
      "|    David| 45| 80000|        13|\n",
      "+---------+---+------+----------+\n",
      "\n"
     ]
    }
   ],
   "source": [
    "training.show()"
   ]
  },
  {
   "cell_type": "code",
   "execution_count": 5,
   "id": "33ff6ccb",
   "metadata": {},
   "outputs": [
    {
     "name": "stdout",
     "output_type": "stream",
     "text": [
      "root\n",
      " |-- Name: string (nullable = true)\n",
      " |-- Age: integer (nullable = true)\n",
      " |-- Salary: integer (nullable = true)\n",
      " |-- Experience: integer (nullable = true)\n",
      "\n"
     ]
    }
   ],
   "source": [
    "training.printSchema()"
   ]
  },
  {
   "cell_type": "code",
   "execution_count": 6,
   "id": "9f9ce016",
   "metadata": {},
   "outputs": [
    {
     "data": {
      "text/plain": [
       "['Name', 'Age', 'Salary', 'Experience']"
      ]
     },
     "execution_count": 6,
     "metadata": {},
     "output_type": "execute_result"
    }
   ],
   "source": [
    "training.columns"
   ]
  },
  {
   "cell_type": "markdown",
   "id": "a9362989",
   "metadata": {},
   "source": [
    "## In ML we do train-test-split but in pyspark we have to have the feature in group to make it independent feature\n",
    "\n",
    "like \n",
    "\n",
    "[Age,Expeirence] ---> new feature ---> independent feature\n",
    "\n",
    "These feature grouped as new feature which are called as independent feature"
   ]
  },
  {
   "cell_type": "code",
   "execution_count": 7,
   "id": "71b598c0",
   "metadata": {},
   "outputs": [],
   "source": [
    "from pyspark.ml.feature import VectorAssembler\n",
    "featureassembler=VectorAssembler(inputCols=[\"Age\",\"Experience\"],outputCol='independent feature')"
   ]
  },
  {
   "cell_type": "code",
   "execution_count": 8,
   "id": "0ccee884",
   "metadata": {},
   "outputs": [],
   "source": [
    "output=featureassembler.transform(training)"
   ]
  },
  {
   "cell_type": "code",
   "execution_count": 9,
   "id": "5bf9bfa8",
   "metadata": {},
   "outputs": [
    {
     "name": "stdout",
     "output_type": "stream",
     "text": [
      "+---------+---+------+----------+-------------------+\n",
      "|     Name|Age|Salary|Experience|independent feature|\n",
      "+---------+---+------+----------+-------------------+\n",
      "|     John| 25| 50000|         5|         [25.0,5.0]|\n",
      "|     Emma| 27| 60000|         3|         [27.0,3.0]|\n",
      "|  Michael| 30| 45000|         7|         [30.0,7.0]|\n",
      "|   Sophia| 28| 55000|         6|         [28.0,6.0]|\n",
      "|   Oliver| 35| 70000|        10|        [35.0,10.0]|\n",
      "|      Ava| 25| 45000|         2|         [25.0,2.0]|\n",
      "|  William| 40| 65000|        12|        [40.0,12.0]|\n",
      "|Charlotte| 22| 40000|         1|         [22.0,1.0]|\n",
      "|    David| 45| 80000|        13|        [45.0,13.0]|\n",
      "+---------+---+------+----------+-------------------+\n",
      "\n"
     ]
    }
   ],
   "source": [
    "output.show()"
   ]
  },
  {
   "cell_type": "code",
   "execution_count": 10,
   "id": "9abdcb42",
   "metadata": {},
   "outputs": [
    {
     "data": {
      "text/plain": [
       "['Name', 'Age', 'Salary', 'Experience', 'independent feature']"
      ]
     },
     "execution_count": 10,
     "metadata": {},
     "output_type": "execute_result"
    }
   ],
   "source": [
    "output.columns"
   ]
  },
  {
   "cell_type": "code",
   "execution_count": 11,
   "id": "6d319b48",
   "metadata": {},
   "outputs": [],
   "source": [
    "finalized_data=output.select(\"independent feature\",\"Salary\")"
   ]
  },
  {
   "cell_type": "code",
   "execution_count": 12,
   "id": "e39f8ac8",
   "metadata": {},
   "outputs": [
    {
     "name": "stdout",
     "output_type": "stream",
     "text": [
      "+-------------------+------+\n",
      "|independent feature|Salary|\n",
      "+-------------------+------+\n",
      "|         [25.0,5.0]| 50000|\n",
      "|         [27.0,3.0]| 60000|\n",
      "|         [30.0,7.0]| 45000|\n",
      "|         [28.0,6.0]| 55000|\n",
      "|        [35.0,10.0]| 70000|\n",
      "|         [25.0,2.0]| 45000|\n",
      "|        [40.0,12.0]| 65000|\n",
      "|         [22.0,1.0]| 40000|\n",
      "|        [45.0,13.0]| 80000|\n",
      "+-------------------+------+\n",
      "\n"
     ]
    }
   ],
   "source": [
    "finalized_data.show()"
   ]
  },
  {
   "cell_type": "code",
   "execution_count": 14,
   "id": "62eecc20",
   "metadata": {},
   "outputs": [],
   "source": [
    "from pyspark.ml.regression import LinearRegression\n",
    "## Train test split\n",
    "train_data,test_data=finalized_data.randomSplit([0.75,0.25])\n",
    "regressor=LinearRegression(featuresCol='independent feature', labelCol='Salary')"
   ]
  },
  {
   "cell_type": "code",
   "execution_count": 15,
   "id": "0ce645d0",
   "metadata": {},
   "outputs": [],
   "source": [
    "regressor=regressor.fit(train_data)"
   ]
  },
  {
   "cell_type": "code",
   "execution_count": 16,
   "id": "e9729062",
   "metadata": {},
   "outputs": [
    {
     "data": {
      "text/plain": [
       "DenseVector([1038.8453, 1102.9936])"
      ]
     },
     "execution_count": 16,
     "metadata": {},
     "output_type": "execute_result"
    }
   ],
   "source": [
    "## Coefficients\n",
    "regressor.coefficients"
   ]
  },
  {
   "cell_type": "code",
   "execution_count": 18,
   "id": "bd901272",
   "metadata": {},
   "outputs": [
    {
     "data": {
      "text/plain": [
       "15956.878118321734"
      ]
     },
     "execution_count": 18,
     "metadata": {},
     "output_type": "execute_result"
    }
   ],
   "source": [
    "## Intercept\n",
    "\n",
    "regressor.intercept"
   ]
  },
  {
   "cell_type": "code",
   "execution_count": 19,
   "id": "1d779acf",
   "metadata": {},
   "outputs": [],
   "source": [
    "## Prediction\n",
    "\n",
    "pred_results = regressor.evaluate(test_data)"
   ]
  },
  {
   "cell_type": "code",
   "execution_count": 20,
   "id": "5584754b",
   "metadata": {},
   "outputs": [
    {
     "name": "stdout",
     "output_type": "stream",
     "text": [
      "+-------------------+------+------------------+\n",
      "|independent feature|Salary|        prediction|\n",
      "+-------------------+------+------------------+\n",
      "|         [25.0,2.0]| 45000|44133.998574482495|\n",
      "|         [27.0,3.0]| 60000| 47314.68282252239|\n",
      "+-------------------+------+------------------+\n",
      "\n"
     ]
    }
   ],
   "source": [
    "pred_results.predictions.show()"
   ]
  },
  {
   "cell_type": "code",
   "execution_count": 21,
   "id": "9f6bc88c",
   "metadata": {},
   "outputs": [
    {
     "data": {
      "text/plain": [
       "(6775.659301497559, 80833615.18110348)"
      ]
     },
     "execution_count": 21,
     "metadata": {},
     "output_type": "execute_result"
    }
   ],
   "source": [
    "pred_results.meanAbsoluteError, pred_results.meanSquaredError"
   ]
  },
  {
   "cell_type": "code",
   "execution_count": null,
   "id": "e376844f",
   "metadata": {},
   "outputs": [],
   "source": []
  }
 ],
 "metadata": {
  "kernelspec": {
   "display_name": "Python 3 (ipykernel)",
   "language": "python",
   "name": "python3"
  },
  "language_info": {
   "codemirror_mode": {
    "name": "ipython",
    "version": 3
   },
   "file_extension": ".py",
   "mimetype": "text/x-python",
   "name": "python",
   "nbconvert_exporter": "python",
   "pygments_lexer": "ipython3",
   "version": "3.11.5"
  }
 },
 "nbformat": 4,
 "nbformat_minor": 5
}
